{
 "cells": [
  {
   "cell_type": "code",
   "execution_count": null,
   "id": "72c7406c-61a8-4dcd-a469-fdf38b240d57",
   "metadata": {},
   "outputs": [],
   "source": [
    "1. who developed python language ?"
   ]
  },
  {
   "cell_type": "code",
   "execution_count": null,
   "id": "6875437e-7a4a-4c85-ad9d-531543904a1d",
   "metadata": {},
   "outputs": [],
   "source": [
    "answer 1.: GUIDO VAN RUSSOM in year 1991"
   ]
  },
  {
   "cell_type": "code",
   "execution_count": null,
   "id": "df2e0446-0042-4b74-8e5a-44b9290f5281",
   "metadata": {},
   "outputs": [],
   "source": [
    "2. which type of programming language does python support ?"
   ]
  },
  {
   "cell_type": "code",
   "execution_count": null,
   "id": "4e773f9c-83aa-4f16-bb57-82de386d4738",
   "metadata": {},
   "outputs": [],
   "source": [
    "answer 2. Python emphasizes support for common programming methodologies such as data structure design and object-oriented programming, and encourages programmers to write readable (and thus maintainable) code by providing an elegant but not overly cryptic notation."
   ]
  },
  {
   "cell_type": "code",
   "execution_count": null,
   "id": "1b128332-ab0b-4a80-b7d1-affba63be44a",
   "metadata": {},
   "outputs": [],
   "source": [
    "3. Is python sensitve when dealing with identifier?\n",
    "ANS\n",
    "Yes python is Case-sensitive"
   ]
  },
  {
   "cell_type": "code",
   "execution_count": null,
   "id": "63360742-65e8-4a43-bd2b-6c468a650577",
   "metadata": {},
   "outputs": [],
   "source": [
    "4. What is the correct extension of python docs?\n",
    "ANSThe correct extension for a python doc is .Py"
   ]
  },
  {
   "cell_type": "code",
   "execution_count": null,
   "id": "524b70aa-122c-4423-8adb-c0821c2e2eeb",
   "metadata": {},
   "outputs": [],
   "source": [
    "5. Is Python code compiled or Interpreted ?\n",
    "Ansyes Python code are complied and Interpreted"
   ]
  },
  {
   "cell_type": "code",
   "execution_count": null,
   "id": "36a4620c-3d28-4525-ba8f-ca89e044c5fa",
   "metadata": {},
   "outputs": [],
   "source": [
    "6. Name a few block of code used to Define Python Language\n",
    "Ans:Indentation"
   ]
  },
  {
   "cell_type": "code",
   "execution_count": null,
   "id": "b49bc96c-e4b6-43f9-81d9-0799f96006f1",
   "metadata": {},
   "outputs": [],
   "source": [
    "7. State a character used to give single line comment in python\n",
    "Ans:use symbol hash(#)\n",
    "    example #i am smart \n",
    "            # i am a data scientist"
   ]
  },
  {
   "cell_type": "code",
   "execution_count": null,
   "id": "4e55238f-190c-4238-888b-0b9bf568c46f",
   "metadata": {},
   "outputs": [],
   "source": [
    "8.Which of the following functions can help us to find the version of python that we are currently working on?\n",
    "ANS:import sys\n",
    "sys.version"
   ]
  },
  {
   "cell_type": "code",
   "execution_count": null,
   "id": "9ca1a81c-68aa-4ec9-b959-d9fd5db15956",
   "metadata": {},
   "outputs": [],
   "source": [
    "9. Python supports the creation of anonymous functions at runtime, using a construct called __________\n",
    "Ans\n",
    "Lambda"
   ]
  },
  {
   "cell_type": "code",
   "execution_count": null,
   "id": "342c6e1f-d9f6-4c6f-bcb5-42de58735921",
   "metadata": {},
   "outputs": [],
   "source": [
    "10. what does pip stand for python?\n",
    "Ans:preferred installer program\n",
    "Python pip is the package manager for Python packages. We can use pip to install packages that do not come with Python."
   ]
  },
  {
   "cell_type": "code",
   "execution_count": null,
   "id": "d2ffa115-01c5-4a56-aeb6-b682fb25e722",
   "metadata": {},
   "outputs": [],
   "source": [
    "11. Mention few built in function in python\n",
    "Ans:\n",
    "bool() abs() str() len() type() open() all() sum() pow() any()"
   ]
  },
  {
   "cell_type": "code",
   "execution_count": 2,
   "id": "3346b058-1944-4c09-ab98-f98a6ed6b219",
   "metadata": {},
   "outputs": [
    {
     "data": {
      "text/plain": [
       "10"
      ]
     },
     "execution_count": 2,
     "metadata": {},
     "output_type": "execute_result"
    }
   ],
   "source": [
    "sum(range(5))"
   ]
  },
  {
   "cell_type": "code",
   "execution_count": 3,
   "id": "efa925df-e623-4b6a-9b2f-92578136fa1f",
   "metadata": {},
   "outputs": [
    {
     "data": {
      "text/plain": [
       "78"
      ]
     },
     "execution_count": 3,
     "metadata": {},
     "output_type": "execute_result"
    }
   ],
   "source": [
    "abs(-78)"
   ]
  },
  {
   "cell_type": "code",
   "execution_count": null,
   "id": "fa3e9a59-b02e-4706-a3f3-82c9a9979997",
   "metadata": {},
   "outputs": [],
   "source": [
    "12. What is max possible length of identifier in python?\n",
    "Ans:79 characters"
   ]
  },
  {
   "cell_type": "code",
   "execution_count": null,
   "id": "a9cb8484-4056-4bea-904c-4d746114fc8e",
   "metadata": {},
   "outputs": [],
   "source": [
    "13. What are the benifits of using python?\n",
    "Ans:\n",
    "OPEN SOURCE\n",
    "Not every technology is free in the world. Some of them demand a considerable amount of payment to use regularly. The programming language is open source and available to use for free of cost. Therefore, it attracts a lot of beginners to start working from the early stages of programming.\n",
    "\n",
    "VIBRANT COMMUNITY\n",
    "A vast community of programmers are found using Python for a long time. A perfect set of programmers under one roof not only clarifies doubts but also engages in providing best practices. The community has a long list of users who can help freshers in finding their objectives quickly.\n",
    "\n",
    "The language is easy to use and understand while developing different kinds of applications. Therefore, a small tip from experienced folks can give a massive relief if you are stuck in the middle of the task.\n",
    "\n",
    "WORK WITH LESS CODE\n",
    "The hybrid programming language does not demand you to put a long list of code to make it work. This plays a vital role in avoiding maximum confusion because of obvious reasons. No wonder Python has an excellent reputation in terms of easy to use features.\n",
    "\n",
    "Python may not be an excellent catch for programmers if they are looking forward to a quick catch. It is known to work slower than a few of the languages. This can be considered as a drawback but balances its quality in other features.\n",
    "\n",
    "EASY INTEGRATIONS\n",
    "It is a known fact that not every application works with a single programming language code. Some of the features require an external code to make the functionality work. Hence, choosing a universal programming language helps you integrate easily.\n",
    "\n",
    "Python is one of the best applications in the market for integration purposes because of powerful control capabilities.\n",
    "\n",
    "Easy integration is one of the top benefits of using Python because of absolute requirements. Python can easily connect with C, C++, Java, and so on. It also processes markup languages like XML because it helps modern applications to work efficiently.\n",
    "\n",
    "PRODUCTIVITY\n",
    "If you are a fresher and looking forward to joining a company, you should have enough exposure to save time without compromising the quality. Python is one of the best programming languages because it is accessible to code.\n",
    "\n",
    "When the work becomes more accessible and compact, it is evident that the productivity rate goes higher. Python gives a complete room to increase productivity because of integrity and convenience. The robust control capabilities provide a way to increase the pace of applications quickly.\n",
    "\n",
    "OBJECT-ORIENTED PROGRAMMING\n",
    "Data structures are a vital element to consider because it reduces repetitive work overtime. The majority of programming languages define objects with multiple elements to make the job easier. Python is equipped specially to work in an object-oriented programming environment because of high-level programming language. It offers support features like Pearl, Java, and so on.\n",
    "\n",
    "SAFETY AND SECURITY\n",
    "Unlike C based programming languages, Python does not come with specific pointers. With no pointers, the programming language is more reliable compared to alternative programming languages. As the programming languages have no pointers, it is evident that programmers would effectively observe the program crash errors.\n",
    "\n",
    "EASY SYNTAX\n",
    "The syntax architecture gives you information about learning convenience. Many young programmers are switching to Python compared to other programming languages because it is easy to learn and implement.\n",
    "\n",
    "The easy syntax element of the programming language enables users to learn the art quickly. As the programming is performed, it is evident that people tend to attract in rapid time.\n",
    "\n",
    "HIGH-LEVEL LANGUAGE AND EASY READABILITY\n",
    "Python is considered as a high-level programming language because of its functionalities. The language can be used to design both straightforward and complex websites. Application development is on the rise of this generation because of consumer demand.\n",
    "\n",
    "The coding format is designed efficiently, which allows programmers to read and edit easily. It is highly considered as a Pseudo-code because of simplicity. Many programmers from the current generation prefer using prototypes to explain the situation to other programmers in an easy way.\n",
    "\n",
    "CONCLUSION\n",
    "Programming languages are plenty, but finding the best one helps you in the long run. Python is one of the best languages used to develop various applications because of advanced features. It is necessary to know the benefits of using Python while planning because it helps prepare a proper roadmap for the project.\n",
    "\n",
    "Pqube is one of the reputed IT solutions providers in Bangalore, providing web solutions in India based on consumers’ requirements. Be it developing websites, apps, web apps, and ecommerce sites. You can take help from PQUBE to have a clear path in designing and managing from time to time"
   ]
  },
  {
   "cell_type": "code",
   "execution_count": null,
   "id": "8ee71e6d-a587-4815-91d8-45cfdc2ad7cb",
   "metadata": {},
   "outputs": [],
   "source": [
    "14. How is memory mannaged in python ?\n",
    "Understanding Memory allocation is important to any software developer as writing efficient code means writing a memory-efficient code. Memory allocation can be defined as allocating a block of space in the computer memory to a program. In Python memory allocation and deallocation method is automatic as the Python developers created a garbage collection \n",
    "for Python so that the user does not have to do manual garbage collection."
   ]
  },
  {
   "cell_type": "code",
   "execution_count": null,
   "id": "ec5eda11-12af-4d8e-9fe0-67ddfad2aea8",
   "metadata": {},
   "outputs": [],
   "source": [
    "15. How to install python and set a path variable?\n",
    "Ans:\n",
    "Install Python\n",
    "search\n",
    "https://www.python.org/downloads/ image.png\n",
    "\n",
    "Click to download\n",
    "image-2.png\n",
    "\n",
    "Open and run the installed file\n",
    "To set as path variable\n",
    "Ensure the highlighted part is turn on\n",
    "image-3.png\n",
    "\n",
    "Then next all the step by accepting needed thing and finish"
   ]
  },
  {
   "cell_type": "code",
   "execution_count": null,
   "id": "a8774c3b-afb3-43c9-9061-6a4f4f470e32",
   "metadata": {},
   "outputs": [],
   "source": [
    "16. Is indentation is needed in python?\n",
    "Ans:Yes indentation is needed else it may give error or unexpected ans"
   ]
  }
 ],
 "metadata": {
  "kernelspec": {
   "display_name": "Python 3 (ipykernel)",
   "language": "python",
   "name": "python3"
  },
  "language_info": {
   "codemirror_mode": {
    "name": "ipython",
    "version": 3
   },
   "file_extension": ".py",
   "mimetype": "text/x-python",
   "name": "python",
   "nbconvert_exporter": "python",
   "pygments_lexer": "ipython3",
   "version": "3.10.8"
  }
 },
 "nbformat": 4,
 "nbformat_minor": 5
}
